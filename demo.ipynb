{
 "cells": [
  {
   "cell_type": "code",
   "execution_count": 6,
   "metadata": {},
   "outputs": [
    {
     "data": {
      "text/plain": [
       "True"
      ]
     },
     "execution_count": 6,
     "metadata": {},
     "output_type": "execute_result"
    }
   ],
   "source": [
    "from IPython.display import display, Markdown, Latex\n",
    "from dotenv import load_dotenv\n",
    "load_dotenv()"
   ]
  },
  {
   "cell_type": "code",
   "execution_count": 1,
   "metadata": {},
   "outputs": [],
   "source": [
    "# main function\n",
    "from digester import ask_claude_about_paper"
   ]
  },
  {
   "cell_type": "markdown",
   "metadata": {},
   "source": [
    "Change this URL."
   ]
  },
  {
   "cell_type": "code",
   "execution_count": 2,
   "metadata": {},
   "outputs": [],
   "source": [
    "paper_url = \"https://paulgp.github.io/papers/gphk_feb152024.pdf\""
   ]
  },
  {
   "cell_type": "code",
   "execution_count": 3,
   "metadata": {},
   "outputs": [],
   "source": [
    "addl_prompt = \"Walk through a simple example at the end.\"\n",
    "pgp_prompt = f\"\"\"\n",
    "\n",
    "We are going to create a two-page reader's digest summary of the attached paper. The goal of this summary is:\n",
    "1. What the reserachers do, in language that is not too dense but sufficiently mathematically precise, and is clear to Ph.D. level economists.\n",
    "2. Why does the literature care about this? Why is it a contribution and why where does it fit?\n",
    "3. What is a key figure or theorem from the paper?\n",
    "\n",
    "{addl_prompt}\n",
    "\n",
    "The headline paragraph of the summary should state \"what is the one thing to learn from this paper?\".\n",
    "Your output should be in markdown.\n",
    "\n",
    "\"\"\""
   ]
  },
  {
   "cell_type": "code",
   "execution_count": 4,
   "metadata": {},
   "outputs": [
    {
     "name": "stdout",
     "output_type": "stream",
     "text": [
      "CPU times: user 55 ms, sys: 17.3 ms, total: 72.3 ms\n",
      "Wall time: 33.6 s\n"
     ]
    }
   ],
   "source": [
    "%%time\n",
    "claude_response = ask_claude_about_paper(paper_url, pgp_prompt)"
   ]
  },
  {
   "cell_type": "code",
   "execution_count": 7,
   "metadata": {},
   "outputs": [
    {
     "data": {
      "text/markdown": [
       "# Reader's Digest: Contamination Bias in Linear Regressions\n",
       "\n",
       "**Key Takeaway**: When running linear regressions with multiple treatments and controls, the coefficient on each treatment is generally contaminated by a non-convex weighted average of other treatments' effects, even when controls are flexible enough to avoid omitted variable bias. This contamination bias arises because linear regression imposes additive separability between treatments that may not hold in reality.\n",
       "\n",
       "## What They Do\n",
       "The authors study how multiple-treatment regression coefficients combine heterogeneous treatment effects. While Angrist (1998) showed that regressions with a single binary treatment estimate convex averages of treatment effects, this paper proves this property fails with multiple treatments. They derive a general decomposition showing each treatment coefficient equals:\n",
       "\n",
       "1. A weighted average of its own treatment effects (with weights that sum to 1)\n",
       "2. Plus contamination terms from other treatments' effects (with weights summing to 0)\n",
       "\n",
       "The contamination arises because regression's linear specification incorrectly imposes additive separability between treatments. For example, with mutually exclusive treatments, being in one treatment group mechanically precludes being in another, creating an inherently non-linear relationship.\n",
       "\n",
       "## Why We Care\n",
       "This matters because multiple-treatment regressions are ubiquitous in economics:\n",
       "- Stratified RCTs with varying treatment probabilities \n",
       "- Education value-added models comparing teachers/schools\n",
       "- Judge IV designs with multiple instruments\n",
       "- Difference-in-difference specifications with multiple periods\n",
       "\n",
       "The paper shows these common specifications may not estimate what researchers think they do, even absent traditional omitted variables concerns. It also provides practical solutions through either:\n",
       "1. Targeting unweighted average treatment effects\n",
       "2. Using \"easiest-to-estimate\" weighted effects\n",
       "3. Employing common weights across treatments\n",
       "\n",
       "## Key Result: Proposition 1\n",
       "The paper's main theoretical result decomposes the regression coefficient βk as:\n",
       "\n",
       "βk = E[λkk(Wi)τk(Wi)] + Σℓ≠k E[λkℓ(Wi)τℓ(Wi)]\n",
       "\n",
       "Where:\n",
       "- τk(Wi) is the conditional treatment effect\n",
       "- λkk(Wi) are own-treatment weights (sum to 1)\n",
       "- λkℓ(Wi) are contamination weights (sum to 0)\n",
       "\n",
       "## Simple Example\n",
       "Consider Project STAR with two treatments: small classes and teacher aides. If small class effects vary across schools and correlate with the proportion getting aides, the small class coefficient will be contaminated by aide effects. With a 45% aide assignment rate in some schools and 5% in others, the contamination weights can be large - theoretical bounds show possible contamination bias of [-1.65, 1.67] standard deviations, even though actual contamination is small due to limited correlation between effects and weights.\n",
       "\n",
       "The paper studies nine applications and finds economically meaningful contamination bias, particularly in observational studies where treatment assignment mechanisms create more variation in the contamination weights."
      ],
      "text/plain": [
       "<IPython.core.display.Markdown object>"
      ]
     },
     "execution_count": 7,
     "metadata": {},
     "output_type": "execute_result"
    }
   ],
   "source": [
    "Markdown(claude_response)"
   ]
  }
 ],
 "metadata": {
  "kernelspec": {
   "display_name": "base",
   "language": "python",
   "name": "python3"
  },
  "language_info": {
   "codemirror_mode": {
    "name": "ipython",
    "version": 3
   },
   "file_extension": ".py",
   "mimetype": "text/x-python",
   "name": "python",
   "nbconvert_exporter": "python",
   "pygments_lexer": "ipython3",
   "version": "3.10.13"
  }
 },
 "nbformat": 4,
 "nbformat_minor": 2
}
